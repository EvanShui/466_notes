{
 "cells": [
  {
   "cell_type": "markdown",
   "metadata": {},
   "source": [
    "# Chapter 8 Itemset Mining\n",
    "\n",
    "* Puprose is to mine frequent patterns that appear\n",
    "* Most common example is *market basket analysis*\n",
    "    * Mine the set of groceries that are often bought together (also known as frequent sets)\n",
    "    * Once mined, the frequent sets allow us to extract *association rules* \n",
    "        * Association rules tell us how likely are two sets of items to co-occur or ocnditionally occur.\n",
    "        * E.x. of association rules:\n",
    "            * Users who visit the page Main, Laptop, and Rebates also visits (->) shopping-cart and checkout\n",
    "            * Implies that the rebate offer results in more check outs."
   ]
  },
  {
   "cell_type": "markdown",
   "metadata": {},
   "source": [
    "## 8.1 Freqeunt Itemsets and Association Rules\n",
    "\n",
    "#### Itemsets and Tidsets\n",
    "* Let $\\textbf{I} = {x_1, x_2, ..., x_m}$ be a set of m elements called items.\n",
    "* A set $X \\subseteq \\textbf{I}$ is called an *itemset*\n",
    "* $\\textbf{I}$ might denote a collection of products\n",
    "* An itemset of cardinality (or size) k is called a k-itemset. \n",
    "* We denote $\\textbf{I}^{(k)}$ be the set of all k-itemsets, whith are subsets of $\\textbf{I}$ with size k. \n",
    "* Let $\\textbf{T}"
   ]
  },
  {
   "cell_type": "code",
   "execution_count": null,
   "metadata": {},
   "outputs": [],
   "source": []
  }
 ],
 "metadata": {
  "kernelspec": {
   "display_name": "Python 3",
   "language": "python",
   "name": "python3"
  },
  "language_info": {
   "codemirror_mode": {
    "name": "ipython",
    "version": 3
   },
   "file_extension": ".py",
   "mimetype": "text/x-python",
   "name": "python",
   "nbconvert_exporter": "python",
   "pygments_lexer": "ipython3",
   "version": "3.6.5"
  }
 },
 "nbformat": 4,
 "nbformat_minor": 2
}
