{
 "cells": [
  {
   "cell_type": "markdown",
   "metadata": {},
   "source": [
    "# Probabilistic Classification\n",
    "* Use Bayes theorem to predict class. Estimate joint probability density function for each class.\n",
    "## 18.1 Bayes Classifier\n",
    "### Definitions\n",
    "* D = the training dataset \n",
    "    * n = size of D\n",
    "    * $x_i$ = the $i^{th}$ transaction\n",
    "    * d = number of attributes\n",
    "    * $y_i$ = the class for the $i^{th}$ transaction\n",
    "    * $y_i \\in \\{c_1, c_2, ..., c_k\\}$\n",
    "* Bayes classifier will use Bayes theorem to predict the class for a new transaction x.\n",
    "    * estimates the posterior probability $P(c_i|x)$ for each class $c_i$ and chooses the class with the largest probability.\n",
    "* predicted probability for x is $y=\\text{arg max(i)}\\{P(c_i|x)\\}$\n",
    "    * y will equal to the $i^{th}$ class level\n",
    "* Bayes theorem will allow us to calculate the above as:\n",
    "    * $P(c_i|x) = \\frac{P(x|c_i) * P(c_i)}{P(x)}$"
   ]
  },
  {
   "cell_type": "code",
   "execution_count": null,
   "metadata": {},
   "outputs": [],
   "source": []
  }
 ],
 "metadata": {
  "kernelspec": {
   "display_name": "Python 3",
   "language": "python",
   "name": "python3"
  },
  "language_info": {
   "codemirror_mode": {
    "name": "ipython",
    "version": 3
   },
   "file_extension": ".py",
   "mimetype": "text/x-python",
   "name": "python",
   "nbconvert_exporter": "python",
   "pygments_lexer": "ipython3",
   "version": "3.6.5"
  }
 },
 "nbformat": 4,
 "nbformat_minor": 2
}
