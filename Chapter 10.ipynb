{
 "cells": [
  {
   "cell_type": "markdown",
   "metadata": {},
   "source": [
    "# Sequence Mining\n",
    "* What is sequence mining? \n",
    "    * Helps discover **patterns** in a dataest.\n",
    "* There are two types of patterns we can look for\n",
    "    * sequences: allows gaps\n",
    "    * substrings: do not allow gaps between elements"
   ]
  },
  {
   "cell_type": "markdown",
   "metadata": {},
   "source": [
    "## 10.1 Frequent Sequences \n",
    "* $\\sum$ is an *alphabet*: a finite set of characters\n",
    "* sequence or string: **ordered** list of symbols\n",
    "    * ordered doesn't imply sorted, just that order matters.\n",
    "    * ($\\ni$ means such that)\n",
    "    * writen as $s = s_1, s_2, ..., s_k \\text{ where } s_i \\in \\sum$ is a symbol at position i, also denoted as s[i]\n",
    "* A sequence with size k is denoted as k-sequence.\n",
    "* s[i:j] denotes a substring of consecutive symbols from i through j.\n",
    "    * $s[i:j] = s_i, s_{i+1}, ..., s_{j-1}, s_j$ to denote substring.\n",
    "* Prefix of a sequence s: first i letters\n",
    "    * $s[1:i] = s_1s_2...s_i$ with 0 <= i <= n.\n",
    "* suffix of a sequence s: last n-i letters\n",
    "    * $s[i:n] = s_is_{i+1}...s_n$ with 1 <= i <= n.\n",
    "* $\\sum^{*}$ be the set of all possible sequences that can be constructed using the symbols in $\\sum$\n",
    "    * this includes the empty set\n",
    "    * essentially the power set \n",
    "* $s=s_1s_2...s_n$ and $r = r_1r_2...r_m$ be two sequences over $\\sum$.\n",
    "    * r is a *subsequence* if $r \\subseteq s$, IF there's a one to one mapping of characters between r and s for any two positions.\n",
    "    * Each position in r is mappting to a different position in s **and the orders of symbols is preserved** even though there may be **gaps** between consecutive elements (non-contiguous).\n",
    "    * if r is a subsequence of s, $r \\subseteq s$ we say that s *contians* r.\n",
    "        * this means tthat r can be either be a subsequence OR a consecutive subsequence of s.\n",
    "    * sequence r is a *consecutive subsequence* or **substring** of s if there are no gaps between the elements of r in the mapping.\n",
    "        * E.X.: $\\sum = \\{A, C, G, T\\}$ and $s = ACTGAACG$\n",
    "        * $r_1 = CGAAG$ is a subsequence of s.\n",
    "        * $r_2 = CTGA$ is a substring of s\n",
    "        * $r_3 = ACT$ is a prefix of s.\n",
    "        * $s_r = ACTGA$ is also a prefix of s.\n",
    "        * $r_5 = GAACG$ is one of the suffixes.\n",
    "    * Given a database of N sequences or strings, given some sequence r, the *support* of r in the database is the total number of sequences in D that *contain* r, is a subsequence or a substring in s.\n",
    "    * $sup(r) = |\\{s_i \\in D|r \\subseteq s_i\\}|$\n",
    "    * relative support: $rsup(r) = sup(R)/N$\n",
    "    * A sequence is frequent if sup(r) >= minsup.\n",
    "    * A frequent sequence is *maximal* if it's not a subsequence of any other frequent subsequence.\n",
    "    * A frequent sequence is *closed* if it's not a subseqeuence of any other frequent sequence with the same support."
   ]
  },
  {
   "cell_type": "markdown",
   "metadata": {},
   "source": [
    "## 10.2 Mining Frequent Sequences\n",
    "* For itemset mining, only need to consider combinations of items\n",
    "* because order matters in sequences, need to consider all permutations.\n",
    "* Sequence search space can be used in prefix search tree.\n",
    "    * Root is an empty set, all children are symbols.\n",
    "    * If a node is labeled with a sequence $s = s_1s_2...s_k$ at level k, then it's child would have to form of $s' = s_1s_2...s_ks_{k+1}$ at level k+1. Thus, s is a prefix of s', also known as an extension of s.\n",
    "* Page 290 has a picture of the subsequence search space.\n",
    "    * Greyed out nodes are sequences that do not satisfy the min support.\n",
    "    * The picture has minsup of 3.\n",
    "    * Technically, this search space is infinite, it includes all sequences of length zero or more using the symbols denoted in $\\sum$.\n",
    "    * Thus, if l is the length of hte longest sequence in the database, the worst case is to consider **ALL** sequences of length up to l, which means that size of the search space is bounded by $O(|\\sum|^l)$ where there are a total of $|\\sum|^k$ possible subsequences of length k "
   ]
  },
  {
   "cell_type": "markdown",
   "metadata": {},
   "source": [
    "### 10.2.1 Level-Wise Mining: GSP \n",
    "* Given a set of k-sized frequent sequences (equivalent to $C^k$), generate all possible candidates, or sequence \"extensions\" by extending by a single letter, at level k+1.\n",
    "* Compute the support and prune, stops when frequent extensions don't exist."
   ]
  },
  {
   "cell_type": "code",
   "execution_count": 1,
   "metadata": {},
   "outputs": [],
   "source": [
    "def GSP(D, S, minsup):\n",
    "    # C is a dictionary of sets - contains POSSIBLE candidates that are frequent\n",
    "    # F is a dictionary of sets - contains candidates that are frequent\n",
    "    F = {}\n",
    "    C = {}\n",
    "    # constructing C(1)\n",
    "    C[1] = set()\n",
    "    # construct root node\n",
    "    root = Node(0)\n",
    "    for s in S:\n",
    "        # constructing a node to easily store support values, will automatically store 0 to support\n",
    "        temp = Node(s)\n",
    "        # adds s as a child of root\n",
    "        root.children.add(temp)\n",
    "        C[1].add(temp)\n",
    "    # denotes the level\n",
    "    k = 1\n",
    "    while C[k] != set():\n",
    "        F[k] = set()\n",
    "        compute_support(C[k], D)\n",
    "        for s in C[k]:\n",
    "            if sup(s) >= minsup:\n",
    "                F[k].add((s, sup(s)))\n",
    "            else:\n",
    "                C[k].remove(s)\n",
    "        C[k+1] = extend_prefix_tree(C[k])\n",
    "        k += 1\n",
    "    return F    "
   ]
  },
  {
   "cell_type": "code",
   "execution_count": 4,
   "metadata": {},
   "outputs": [],
   "source": [
    "def compute_support(C_k, D):\n",
    "    for row in D:\n",
    "        # r is each possible candidate that has length k\n",
    "        for r in C_k:\n",
    "            # if r contains s_i (row), r is a subsequence or a substring of s_i\n",
    "            if r in row:\n",
    "                r.sup += 1"
   ]
  },
  {
   "cell_type": "code",
   "execution_count": 5,
   "metadata": {},
   "outputs": [],
   "source": [
    "def extend_prefix_tree(C_k):\n",
    "    for r_a in C_k:\n",
    "        # for each of the siblings of r_a who share the same parent\n",
    "        for r_b in r_a.parent.children:\n",
    "            # extend ra with the last symbol of rb because \n",
    "            r_ab = r_a + r_b[-1]\n",
    "            # begin prunning process \n",
    "            # construct powerset of r_ab where length is |r_ab| - 1\n",
    "            for r_c in powerset(r_ab, len(r_ab)-1):\n",
    "                if r_c in C_k:\n",
    "                    temp = Node(r_ab)\n",
    "                    r_a.children.add(temp)\n",
    "        if len(r_a.children) == 0:\n",
    "            C_k.remove(r_a)\n",
    "    return C_k"
   ]
  },
  {
   "cell_type": "markdown",
   "metadata": {},
   "source": [
    "* E.x. of GSP Algo.\n",
    "    * if r_a = AA, the children of r_a's parent, A, is AA and AG.\n",
    "    * Thus, r_ab = AA + AA[-1] = AAA\n",
    "    * The next iteration is AA + AG[-1] = AAG and etc.\n",
    "* The complexity of GSP is $O(|\\sum|^l)$ where l is the length of the longest frequency sequence."
   ]
  },
  {
   "cell_type": "markdown",
   "metadata": {},
   "source": [
    "### 10.2.2 Vertical Sequence Mining: SPADE\n",
    "* SPADE uses vertical database.\n",
    "* For each symbol record where the symbol occurs for each sequence in the form of $<i, pos(s)>$ where pos(s) is the set of positions in the sequence $\\textbf{s}_i \\in D$ where the symbol s occurs.  \n",
    "* L(s) = the set of sequence-position tuples for symbol s, referred to as the poslist.\n",
    "* Given a sequence of size k r, the poslist L(r) maintains the list of positions for the occurrences of the last occuring symbol in r in each database sequence $\\textbf{s}_i$ provided that $r \\subseteq s_i$\n",
    "* Support \n",
    "    * E.x. given a database in this format:"
   ]
  },
  {
   "cell_type": "code",
   "execution_count": 7,
   "metadata": {},
   "outputs": [
    {
     "data": {
      "text/html": [
       "<div>\n",
       "<style scoped>\n",
       "    .dataframe tbody tr th:only-of-type {\n",
       "        vertical-align: middle;\n",
       "    }\n",
       "\n",
       "    .dataframe tbody tr th {\n",
       "        vertical-align: top;\n",
       "    }\n",
       "\n",
       "    .dataframe thead th {\n",
       "        text-align: right;\n",
       "    }\n",
       "</style>\n",
       "<table border=\"1\" class=\"dataframe\">\n",
       "  <thead>\n",
       "    <tr style=\"text-align: right;\">\n",
       "      <th></th>\n",
       "      <th>id</th>\n",
       "      <th>sequence</th>\n",
       "    </tr>\n",
       "  </thead>\n",
       "  <tbody>\n",
       "    <tr>\n",
       "      <th>0</th>\n",
       "      <td>s1</td>\n",
       "      <td>CAGAAGT</td>\n",
       "    </tr>\n",
       "    <tr>\n",
       "      <th>1</th>\n",
       "      <td>s2</td>\n",
       "      <td>TGACAG</td>\n",
       "    </tr>\n",
       "    <tr>\n",
       "      <th>2</th>\n",
       "      <td>s3</td>\n",
       "      <td>GAAGT</td>\n",
       "    </tr>\n",
       "  </tbody>\n",
       "</table>\n",
       "</div>"
      ],
      "text/plain": [
       "   id sequence\n",
       "0  s1  CAGAAGT\n",
       "1  s2   TGACAG\n",
       "2  s3    GAAGT"
      ]
     },
     "execution_count": 7,
     "metadata": {},
     "output_type": "execute_result"
    }
   ],
   "source": [
    "import pandas as pd\n",
    "pd.DataFrame({'id':['s1', 's2', 's3'], 'sequence':['CAGAAGT', 'TGACAG', 'GAAGT']})"
   ]
  },
  {
   "cell_type": "markdown",
   "metadata": {},
   "source": [
    "if r = 'AA', L(r) = "
   ]
  },
  {
   "cell_type": "code",
   "execution_count": 8,
   "metadata": {},
   "outputs": [
    {
     "data": {
      "text/html": [
       "<div>\n",
       "<style scoped>\n",
       "    .dataframe tbody tr th:only-of-type {\n",
       "        vertical-align: middle;\n",
       "    }\n",
       "\n",
       "    .dataframe tbody tr th {\n",
       "        vertical-align: top;\n",
       "    }\n",
       "\n",
       "    .dataframe thead th {\n",
       "        text-align: right;\n",
       "    }\n",
       "</style>\n",
       "<table border=\"1\" class=\"dataframe\">\n",
       "  <thead>\n",
       "    <tr style=\"text-align: right;\">\n",
       "      <th></th>\n",
       "      <th>row</th>\n",
       "      <th>end_pos</th>\n",
       "    </tr>\n",
       "  </thead>\n",
       "  <tbody>\n",
       "    <tr>\n",
       "      <th>0</th>\n",
       "      <td>1</td>\n",
       "      <td>(4, 5)</td>\n",
       "    </tr>\n",
       "    <tr>\n",
       "      <th>1</th>\n",
       "      <td>2</td>\n",
       "      <td>(5,)</td>\n",
       "    </tr>\n",
       "    <tr>\n",
       "      <th>2</th>\n",
       "      <td>3</td>\n",
       "      <td>(3,)</td>\n",
       "    </tr>\n",
       "  </tbody>\n",
       "</table>\n",
       "</div>"
      ],
      "text/plain": [
       "   row end_pos\n",
       "0    1  (4, 5)\n",
       "1    2    (5,)\n",
       "2    3    (3,)"
      ]
     },
     "execution_count": 8,
     "metadata": {},
     "output_type": "execute_result"
    }
   ],
   "source": [
    "pd.DataFrame({'row':[1,2,3], 'end_pos':[(4,5), (5,), (3,)]})"
   ]
  },
  {
   "cell_type": "markdown",
   "metadata": {},
   "source": [
    "The symbol A occurs in all 3 strings at various positions, thus the corresponding node would look like the following and, since the symbol A appears in all 3 strings, the support is equal to 3. "
   ]
  },
  {
   "cell_type": "code",
   "execution_count": 9,
   "metadata": {},
   "outputs": [
    {
     "data": {
      "text/html": [
       "<div>\n",
       "<style scoped>\n",
       "    .dataframe tbody tr th:only-of-type {\n",
       "        vertical-align: middle;\n",
       "    }\n",
       "\n",
       "    .dataframe tbody tr th {\n",
       "        vertical-align: top;\n",
       "    }\n",
       "\n",
       "    .dataframe thead th {\n",
       "        text-align: right;\n",
       "    }\n",
       "</style>\n",
       "<table border=\"1\" class=\"dataframe\">\n",
       "  <thead>\n",
       "    <tr style=\"text-align: right;\">\n",
       "      <th></th>\n",
       "      <th>row</th>\n",
       "      <th>end_post</th>\n",
       "    </tr>\n",
       "  </thead>\n",
       "  <tbody>\n",
       "    <tr>\n",
       "      <th>0</th>\n",
       "      <td>1</td>\n",
       "      <td>(2, 4, 5)</td>\n",
       "    </tr>\n",
       "    <tr>\n",
       "      <th>1</th>\n",
       "      <td>2</td>\n",
       "      <td>(3, 5)</td>\n",
       "    </tr>\n",
       "    <tr>\n",
       "      <th>2</th>\n",
       "      <td>3</td>\n",
       "      <td>(2, 3)</td>\n",
       "    </tr>\n",
       "  </tbody>\n",
       "</table>\n",
       "</div>"
      ],
      "text/plain": [
       "   row   end_post\n",
       "0    1  (2, 4, 5)\n",
       "1    2     (3, 5)\n",
       "2    3     (2, 3)"
      ]
     },
     "execution_count": 9,
     "metadata": {},
     "output_type": "execute_result"
    }
   ],
   "source": [
    "pd.DataFrame({'row':[1,2,3], 'end_post':[(2,4,5), (3,5), (2,3)]})"
   ]
  },
  {
   "cell_type": "markdown",
   "metadata": {},
   "source": [
    "* To compute support in Spade, perform sequential join\n",
    "    * For two k length sequences $r_a$ and $r_b$ that share the same parent, or the same (k-1) length prefix, the idea is to perform sequential joins on the loslists (L(r)) to compute the support for the new (k+1) length candidate sequence $r_{ab} = r_a + r_b[k]$\n",
    "    * <i, pos($r_a[k]$)> stands for given a sequence, the pos($r_a[k]$) is the position of the last character of the sequence $r_a$.\n",
    "    * We first check if both $r_b[k]$ and $r_a[k]$ sequences exist in the same database sequence, $s_i$.\n",
    "    * Next, for each position $p \\in pos(r_b[k])$, which pretty much means checking back in level 1 and see where each letter occurs in each string in the database, we check wheter there exists a position $q \\in pos(r_a[k])$ such that q <p\n",
    "        * this ensures that when you add the last character from $r_b$, that the character comes after the last character of $r_a$.\n",
    "        * that's important cause you want to append the last character or $r_b$ to ensure that order is perserved of the subsequence.\n",
    "    * If q < p, then $r_b[k]$ occurs after the last position of $r_a$ and thus the value p is a **valid** occurrence of $r_{ab}$.\n",
    "* The position list $L(r_{ab})$ is made up of all such valid occurrences.\n",
    "* Only keep track of the last character of a valid sequence, since the prefix symbols provide no value.\n",
    "* We denot the sequential join as $L(r_{ab}) = L(r_a) \\cap L(r_b)$"
   ]
  },
  {
   "cell_type": "code",
   "execution_count": 1,
   "metadata": {},
   "outputs": [
    {
     "ename": "IndentationError",
     "evalue": "expected an indented block (<ipython-input-1-fbaf9ad465a8>, line 26)",
     "output_type": "error",
     "traceback": [
      "\u001b[0;36m  File \u001b[0;32m\"<ipython-input-1-fbaf9ad465a8>\"\u001b[0;36m, line \u001b[0;32m26\u001b[0m\n\u001b[0;31m    F = 0\u001b[0m\n\u001b[0m    ^\u001b[0m\n\u001b[0;31mIndentationError\u001b[0m\u001b[0;31m:\u001b[0m expected an indented block\n"
     ]
    }
   ],
   "source": [
    "# because of the recursive nature of this algo, need to declare things outside of the scope of the function\n",
    "# pre-defined values, S = (summation) which represents \n",
    "# assume the database D is a list of strings, where the index of the element is the id of the string\n",
    "# this is for singular symbols\n",
    "def L(S, D, minsup):\n",
    "    P = []\n",
    "    for symbol in S:\n",
    "        ind_lst = []\n",
    "        for ind, s_i in enumerate(D):\n",
    "            temp_lst = []\n",
    "            for str_ind, character in enumerate(s_i):\n",
    "                if symbol == character:\n",
    "                    temp_lst.append(str_ind)\n",
    "            # temp_lst = [2,4,5]\n",
    "            ind_lst.append({ind, temp_lst})\n",
    "        # accounts for minsup arg\n",
    "        if len(ind_lst) >= minsup:\n",
    "            P.append((symbol, ind_lst))\n",
    "        \n",
    "def seq_join(r_a, r_b, P):\n",
    "    # r_a and r_b are lists of of (i, L(i)) where L(i) is a list of indices of where the corresponding \n",
    "    # symbol appears in the string.\n",
    "    \n",
    "    \n",
    "    \n",
    "F = 0\n",
    "k = 0\n",
    "# we assume P is defined already\n",
    "P = None\n",
    "def SPADE(P, minsup, F, k):\n",
    "    # r_a is in the form of (symbol, L(symbol)) where L(symbol) is a list of dictionaries, each dictionary\n",
    "    # corresponds to a string in the database (s_i) and the occurences of the symbol\n",
    "    for r_a in P:\n",
    "        F.append(r_a[0], len(r_a[1]))\n",
    "        P_a = 0\n",
    "        for r_b in P:\n",
    "            r_ab = r_a + r_b[k]\n",
    "            \n",
    "        \n"
   ]
  },
  {
   "cell_type": "code",
   "execution_count": null,
   "metadata": {},
   "outputs": [],
   "source": []
  }
 ],
 "metadata": {
  "kernelspec": {
   "display_name": "Python 3",
   "language": "python",
   "name": "python3"
  },
  "language_info": {
   "codemirror_mode": {
    "name": "ipython",
    "version": 3
   },
   "file_extension": ".py",
   "mimetype": "text/x-python",
   "name": "python",
   "nbconvert_exporter": "python",
   "pygments_lexer": "ipython3",
   "version": "3.6.5"
  }
 },
 "nbformat": 4,
 "nbformat_minor": 2
}
