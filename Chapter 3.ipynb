{
 "cells": [
  {
   "cell_type": "markdown",
   "metadata": {},
   "source": [
    "Analyze categorical attributes \n",
    "\n",
    "## 3.1 Univariate Analysis \n",
    "* We assume that the domain of the random variable, the variables that are included in the random variable, $dom(X) = {a_1, a_2, ..., a_m}$ <br/> \n",
    "$D = \\begin{bmatrix}X \\\\ x_1\\\\x_2\\\\...\\\\x_n\\end{bmatrix}$ <br/>\n",
    "\n",
    "### 3.1.1 Bernoulli Variable \n",
    "* Consider the case where a categorical variable has domain of two values ${a_1, a_2}$ <br/> \n",
    "* We can model the random variable as a Bernoulli random variable where it takes two values and maps them to 1 and 0. They don't necessaarily mean that the 1 is a success or 0 is a failure, they are just values.: <br/> \n",
    "$ X(v) = \\begin{cases} 1, & \\text{if v =}a_1 \\\\ 0, & \\text{if v =}a_2 \\end{cases}$ <br/> \n",
    "* Thus the pmf of X is given as $P(X=x) = f(x) = \\begin{cases} p_1, & \\text{if x = 1} \\\\ p_0, & \\text{if x = 0} \\end{cases}$ <br/> \n",
    "where the sum of the two probabilities should be 1. <br/> \n",
    "* A function to get the probaiblity can be written as $P(X=x) = f(x) = p^x(1-p)^{1-x}$\n",
    "\n",
    "#### Mean and Variance\n",
    "$\\mu = E[X] = 1 * p + 0 * (1-p) = p$ \n",
    "$\\sigma^2 = var)x_ = E[X^2] - (E[X])^2 = p(1-p)$\n",
    "\n",
    "#### Sample Mean and Variance \n",
    "Sample is pretty much the same as the mean and variance calculations \n",
    "\n",
    "#### Binomial Distribution: Number of Occurrences\n",
    "* With a random sample size of size n, N the random variable denotes the number of occurrences of the categorical variable that correspond to the value of 1. The number of times that you can select the categorical variable from the n number of trials follows a binomial distribution. \n",
    "\n",
    "### 3.1.2 Multivariate Bernoulli Variable \n",
    "* What if the random variable's domain is ${a_1, a_2, ..., a_m}$, now multiple variables are in the domain of the random variable. To represent this, we use standard basis vectors where the corresponding value $a_i$ is marked as a 1 on the $i^{th}$ position such that it looks like $e_i = (0, ..., 0, 1, 0, ..., 0)$ where the 1 is in the $i^{th}$ position. \n",
    "$(a_1 = \\text{VeryShort}, a_2 = \\text{Short}, a_3 = \\text{Long}, a_4 = \\text{VeryLong})$\n",
    "* Look at page 76 to see the basis vectors for the multivariate vernoulli variable. \n",
    "#### Mean\n",
    "The mean can be obtained as the population probability that the $i^{th}$ random variable will occur. <br/>\n",
    "$\\mu = E[X] = \\begin{bmatrix} 1 \\\\0 \\\\ ... \\\\ 0 \\end{bmatrix} p_1 + ... + \\begin{bmatrix}0 \\\\ 0 \\\\ ... \\\\ 1 \\end{bmatrix} p_m = \\begin{bmatrix} p_1 \\\\ p_2 \\\\ ... \\\\ p_m \\end{bmatrix} = p$\n",
    "* Look at page 77 to see what the mean loosks like.\n",
    "\n",
    "#### Covariance Matrix\n",
    "$\\sigma_i^2 = var(A_i) = p_i (1 - p_i) $ <br/>\n",
    "$\\sigma_{ij} = E[A_iA_j] - E[A_i] * E[A_j] = 0 - p_ip_j = -p_ip_j$ <br/>\n",
    "$\\sum = \\begin{bmatrix} \\sigma_1^2, \\sigma_{12}, ... , \\sigma_{1m} \\\\ \\sigma_{12}, \\sigma_2^2, ..., \\sigma_{2m} \\\\ ..., ..., ..., ... \\\\ \\sigma_{1m}, \\sigma_{2m}, ..., \\sigma_m^2 \\end{bmatrix} = \\begin{bmatrix} p_1(1-p_1), -p_1p_2, ..., -p_1p_m \\\\ -p_1p_2, p_2(1-p_2), ..., -p_2p_m \\\\ ..., ..., ..., ... \\\\ -p_1p_m, -p_2p_m, ..., p_m(1-p_m) \\end{bmatrix} $ <br/> \n",
    "* We can write out the covariance matrix as $\\sum = P - p * p^T$\n"
   ]
  },
  {
   "cell_type": "code",
   "execution_count": 12,
   "metadata": {},
   "outputs": [],
   "source": [
    "import pandas as pd \n",
    "import numpy as np\n",
    "P = np.diag((1,1)) * [0.4, 0.6]"
   ]
  },
  {
   "cell_type": "code",
   "execution_count": 13,
   "metadata": {},
   "outputs": [],
   "source": [
    "p = np.array([0.4, 0.6])[:, np.newaxis]"
   ]
  },
  {
   "cell_type": "code",
   "execution_count": 23,
   "metadata": {},
   "outputs": [
    {
     "data": {
      "text/plain": [
       "array([[ 0.24, -0.24],\n",
       "       [-0.24,  0.24]])"
      ]
     },
     "execution_count": 23,
     "metadata": {},
     "output_type": "execute_result"
    }
   ],
   "source": [
    "P - p.dot(p.transpose())"
   ]
  },
  {
   "cell_type": "code",
   "execution_count": null,
   "metadata": {},
   "outputs": [],
   "source": []
  }
 ],
 "metadata": {
  "kernelspec": {
   "display_name": "Python 3",
   "language": "python",
   "name": "python3"
  },
  "language_info": {
   "codemirror_mode": {
    "name": "ipython",
    "version": 3
   },
   "file_extension": ".py",
   "mimetype": "text/x-python",
   "name": "python",
   "nbconvert_exporter": "python",
   "pygments_lexer": "ipython3",
   "version": "3.6.5"
  }
 },
 "nbformat": 4,
 "nbformat_minor": 2
}
