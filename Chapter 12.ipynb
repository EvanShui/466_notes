{
 "cells": [
  {
   "cell_type": "markdown",
   "metadata": {},
   "source": [
    "# Pattern and Rule Assessment\n",
    "\n",
    "## 12.1 Rule and Pattern Assessment Measures\n",
    "let $\\textbf{I}$ be a set of Items. Let $\\textbf{T}$ be a set of Tids. Let $\\textbf{D} \\subseteq \\textbf{T} x \\textbf{I}$\n",
    "\n",
    "### 12.1.1 Rulse Assessment Measures\n",
    "\n",
    "#### Support\n",
    "* Defined as the number of transactions that contain both X and Y.\n",
    "* $sup(X->Y) = sup(XY) = |t(XY)|$\n",
    "* $rsup(X->Y) = P(XY) = rsup(XY) = \\frac{sup(XY)}{|\\textbf{D}|}$\n",
    "\n",
    "#### Confidence\n",
    "* The confidence of a rule is the conditional probability that a transaction that contains Y given that it contains X.\n",
    "* $conf(X->Y) = P(Y|X) = \\frac{P(XY)}{P(X)} = \\frac{rsup(XY)}{rsup(X)} = \\frac{sup(XY)}{sup(X)}$\n",
    "\n",
    "#### lift\n",
    "* The ratio of the observed joint probability between X and Y to the expected joint probability if they were statistically independent.\n",
    "* $lift(X->Y) = \\frac{P(XY)}{P(X) * P(Y)} = \\frac{rsup(XY)}{rsup(X) * rsup(Y)} = \\frac{conf(X->Y)}{rsup(Y)}$\n",
    "* If the vlaue of lift is close to 1, then the support of the rule is expected considering the support of it's individual components. \n",
    "* Lift can be susceptible to noise in small datasets since rare or infrequent datasets that occur only a few times can have high lift values.\n",
    "\n",
    "#### leverage\n",
    "* Measures the difference between observed and expected joint probability of XY assuming that the probabilities of X and Y are independent. \n",
    "* $leverage(X->Y) = P(XY) - P(X)*P(Y) = rsup(XY) - rsup(X) * rsup(Y)$\n",
    "\n",
    "#### jaccard\n",
    "* measures the similarity between two sets, computes the similarity between the tidsets of X and Y.\n",
    "* $jaccard(A->C) = \\frac{sup(AC)}{sup(A)+sup(C)-sup(AC)} = \\frac{P(AC)}{P(A) + P(C) - P(AC)}$\n",
    "\n",
    "#### conviction\n",
    "* One of the rule assessment measures that use the complement of an event.\n",
    "* Define $-X$ to be the event that X is not contained in a transaction.\n",
    "* $conv(X->Y) = \\frac{P(X) * P(-Y)}{P(X * -Y)} = \\frac{1}{lift(X->-Y)}$\n",
    "* or $conv(X->Y) = \\frac{P(X) * P(-Y)}{P(X) - P(XY)} = \\frac{P(-Y)}{1-P(XY)/P(X)} = \\frac{1-rsup(Y)}{1-conf(X->Y)}$\n",
    "* Measures the expected error of the rule, that is, how often X occurs in a transaction where Y does not.\n",
    "* If the joint probability of (X)(-Y) is less than that expected under independence of (X) and (-Y).\n",
    "\n",
    "#### odds ratio\n",
    "* $odds(Y|X) = \\frac{P(XY)/P(X)}{P(X(-Y))/P(X)} = \\frac{P(XY)}{P(X(-Y))}$\n",
    "* $odds(Y|-X) = \\frac{P((-X)Y)/P(-X)}{P((-X)(-Y))/P(-X)} = \\frac{P((-X)Y)}{P((-X)(-Y))}$\n",
    "* $oddsratio(X->Y) = \\frac{odds(Y|X)}{odds(Y|-X)} = \\frac{P(XY) * P((-X)(-Y)(}{P(X(-Y))*P((-X)Y)} = \\frac{sup(XY) * sup((-X)(-Y))}{sup(X(-Y))}{sup((-X)Y)}$\n",
    "    * If X and Y are independent, then the odds ratio should have a value of 1. "
   ]
  },
  {
   "cell_type": "markdown",
   "metadata": {},
   "source": []
  }
 ],
 "metadata": {
  "kernelspec": {
   "display_name": "Python 3",
   "language": "python",
   "name": "python3"
  },
  "language_info": {
   "codemirror_mode": {
    "name": "ipython",
    "version": 3
   },
   "file_extension": ".py",
   "mimetype": "text/x-python",
   "name": "python",
   "nbconvert_exporter": "python",
   "pygments_lexer": "ipython3",
   "version": "3.6.5"
  }
 },
 "nbformat": 4,
 "nbformat_minor": 2
}
